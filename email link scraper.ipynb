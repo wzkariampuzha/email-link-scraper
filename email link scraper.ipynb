{
 "cells": [
  {
   "cell_type": "markdown",
   "metadata": {},
   "source": [
    "### Purpose: Automatically extract links and emails from Google Search\n",
    "1. Search google for links (L.1)\n",
    "2. Search all of those links (L.1) for emails\n",
    "3. Search all of those links (L.1) for links (L.2)\n",
    "4. Search all of those link (L.2) for emails\n",
    "5. Save all links and emails into a csv file"
   ]
  },
  {
   "cell_type": "markdown",
   "metadata": {},
   "source": [
    "Note: add support for US data: https://pypi.org/project/us/"
   ]
  },
  {
   "cell_type": "code",
   "execution_count": 1,
   "metadata": {},
   "outputs": [],
   "source": [
    "from googlesearch import search\n",
    "import requests\n",
    "from bs4 import BeautifulSoup\n",
    "import re\n",
    "email_re = re.compile(r\"[A-Za-z0-9._%+-]+@[A-Za-z0-9.-]+\\.[A-Za-z]{2,4}\")\n",
    "phone_re = re.compile(r\"(?:\\+\\d{1,2}\\s)?\\(?\\d{3}\\)?[\\s.-]\\d{3}[\\s.-]\\d{4}\")\n",
    "excluded_links = {'.pdf','.png','file', 'mailto:','cdc.gov','hhs.gov','freeclinics.com','medicaid.gov','freeclinicdirectory.org'}\n",
    "excluded_emails = {'support@freeclinics.com','.js','support@freedentalcare.us', '.png'}\n",
    "\n",
    "from pandas import DataFrame\n",
    "import json\n",
    "from itertools import zip_longest"
   ]
  },
  {
   "cell_type": "code",
   "execution_count": 2,
   "metadata": {},
   "outputs": [],
   "source": [
    "def scrape_url(url):\n",
    "    try:\n",
    "        #Open URL\n",
    "        r = requests.get(url)\n",
    "        print(url,'opened')\n",
    "        \n",
    "        #Scrape Emails\n",
    "        emails = {email for email in email_re.findall(r.text) if len(email)<35 and not any(excluded in email for excluded in excluded_emails)}\n",
    "        if len(emails) ==0:\n",
    "            emails = {''}\n",
    "        \n",
    "        #Scrape Phone Numbers\n",
    "        phones = {phone for phone in phone_re.findall(r.text)}\n",
    "        if len(phones) == 0:\n",
    "            phones = {''}\n",
    "        \n",
    "        #Scrape Next layer links\n",
    "        links = set()\n",
    "        soup = BeautifulSoup(r.text, 'html.parser')\n",
    "        for link in soup.find_all('a'):\n",
    "            l = link.get('href')\n",
    "            if len(l)>10:\n",
    "                if 'tel:' in l:\n",
    "                    #remove the tel:\n",
    "                    phones.add(l[4:])\n",
    "                if not any(excluded_l in l for excluded_l in excluded_links):\n",
    "                    #If this is a sub-link\n",
    "                    if 'www.' not in l:\n",
    "                        l = url+l[1:]\n",
    "                        links.add(l)\n",
    "                    else:\n",
    "                        links.add(l)\n",
    "        \n",
    "        return emails, phones, links\n",
    "    except:\n",
    "        print(url,\"is unable to be opened.\")\n",
    "        return {''}, {''}, None"
   ]
  },
  {
   "cell_type": "code",
   "execution_count": 3,
   "metadata": {
    "scrolled": true
   },
   "outputs": [],
   "source": [
    "def save_csv(searchterm, dictionary):\n",
    "    df = DataFrame.from_dict(dictionary)\n",
    "    save = 'output/'+searchterm+'.csv'\n",
    "    df.to_csv(save)\n",
    "    print(save,'SAVED')"
   ]
  },
  {
   "cell_type": "code",
   "execution_count": 4,
   "metadata": {},
   "outputs": [],
   "source": [
    "def email_link_search(searchterm, max_results=25):\n",
    "    output = {\"Link\":[],\"Email\":[],\"Phone\":[]}\n",
    "    try:\n",
    "        google_results = search(searchterm, num_results=max_results)\n",
    "        for google_link in google_results:\n",
    "            if not any(ext in google_link for ext in excluded_links):\n",
    "                emails, phones, second_links = scrape_url(google_link)\n",
    "\n",
    "                if list(emails)[0]!= '' or list(phones)[0]!='':\n",
    "                    for email, phone in zip_longest(emails, phones):\n",
    "                        output[\"Link\"].append(google_link)\n",
    "                        output[\"Email\"].append(email)\n",
    "                        output[\"Phone\"].append(phone)\n",
    "\n",
    "                if second_links:\n",
    "                    for link in second_links:\n",
    "                        emails, phones, _ = scrape_url(link)\n",
    "                        if list(emails)[0]!= '' or list(phones)[0]!='':\n",
    "                            for email, phone in zip_longest(emails, phones):\n",
    "                                output[\"Link\"].append(link)\n",
    "                                output[\"Email\"].append(email)\n",
    "                                output[\"Phone\"].append(phone) \n",
    "    except:\n",
    "        raise ValueError('Google Search Failed. Input new search term.')\n",
    "    \n",
    "    return output"
   ]
  },
  {
   "cell_type": "code",
   "execution_count": null,
   "metadata": {
    "scrolled": true
   },
   "outputs": [
    {
     "name": "stdout",
     "output_type": "stream",
     "text": [
      "montana free clinics\n",
      "https://helppayingthebills.com/free-medical-clinics-in-montana/free-and-low-cost-medical-clinics-in-billings-montana/ opened\n",
      "https://helppayingthebills.com/free-medical-clinics-in-montana/free-and-low-cost-medical-clinics-in-billings-montana/ttps://helppayingthebills.com/healthcare-services/free-and-low-cost-Cholesterol-Screening/Montana?selected_city=Billings opened\n",
      "http://www.plannedparenthood.org/health-center/montana/billings/59105/planned-parenthood-heights-2438-90790  opened\n",
      "http://www.plannedparenthood.org/health-center/montana/billings/59105/planned-parenthood-heights-2438-90790  is unable to be opened.\n",
      "https://helppayingthebills.com/free-medical-clinics-in-montana/free-and-low-cost-medical-clinics-in-billings-montana/ttps://helppayingthebills.com/save-link-to-help-paying-bills/ opened\n",
      "https://helppayingthebills.com/free-medical-clinics-in-montana/free-and-low-cost-medical-clinics-in-billings-montana/ttps://helppayingthebills.com/healthcare-services/free-and-low-cost-Transportation-Services/Montana?selected_city=Billings opened\n",
      "https://helppayingthebills.com/free-medical-clinics-in-montana/free-and-low-cost-medical-clinics-in-billings-montana/ttps://helppayingthebills.com/healthcare-services/free-and-low-cost-WIC/Montana?selected_city=Billings opened\n",
      "https://helppayingthebills.com/free-medical-clinics-in-montana/free-and-low-cost-medical-clinics-in-billings-montana/ttps://helppayingthebills.com/healthcare-services/free-and-low-cost-Health-Education-and-Nutrition-Services/Billings/Montana opened\n",
      "https://helppayingthebills.com/free-medical-clinics-in-montana/free-and-low-cost-medical-clinics-in-billings-montana/ttps://helppayingthebills.com/food-assistance/ opened\n",
      "https://helppayingthebills.com/free-medical-clinics-in-montana/free-and-low-cost-medical-clinics-in-billings-montana/ttps://helppayingthebills.com/healthcare-services/free-and-low-cost-Community-Health-Worker-Services/Montana?selected_city=Billings opened\n",
      "https://helppayingthebills.com/free-medical-clinics-in-montana/free-and-low-cost-medical-clinics-in-billings-montana/ttps://helppayingthebills.com/free-medical-clinics-in-montana/ opened\n",
      "https://helppayingthebills.com/free-medical-clinics-in-montana/free-and-low-cost-medical-clinics-in-billings-montana/ttps://helppayingthebills.com/soup-kitchens-meal-programs-state/ opened\n",
      "https://helppayingthebills.com/free-medical-clinics-in-montana/free-and-low-cost-medical-clinics-in-billings-montana/ttps://helppayingthebills.com/food-assistance/snap-contact-numbers-state/ opened\n",
      "http://www.montana.va.gov/locations/Billings_VA_Community_Based_Outpatient_Clinic.asp  opened\n",
      "http://www.montana.va.gov/locations/Billings_VA_Community_Based_Outpatient_Clinic.asp  is unable to be opened.\n",
      "https://helppayingthebills.com/free-medical-clinics-in-montana/free-and-low-cost-medical-clinics-in-billings-montana/ttps://helppayingthebills.com/healthcare-services/free-and-low-cost-Mental-Health-Services/Montana?selected_city=Billings opened\n",
      "http://www.ihbbilling.org/clinic_hours.html  opened\n",
      "https://helppayingthebills.com/free-medical-clinics-in-montana/free-and-low-cost-medical-clinics-in-billings-montana/ttps://helppayingthebills.com/healthcare-services/free-and-low-cost-Adult-Services/Montana?selected_city=Billings opened\n",
      "https://helppayingthebills.com/free-medical-clinics-in-montana/free-and-low-cost-medical-clinics-in-billings-montana/ttps://helppayingthebills.com/healthcare-services/free-and-low-cost-Pediatric-Services/Billings/Montana opened\n",
      "https://helppayingthebills.com/free-medical-clinics-in-montana/free-and-low-cost-medical-clinics-in-billings-montana/ttps://helppayingthebills.com/healthcare-services/free-and-low-cost-Lab-Services/Billings/Montana opened\n",
      "http://www.riverstonehealth.org/ClinicalServices/RiverStoneHealthClinics/Billings/tabid/90/Default.aspx  opened\n",
      "https://helppayingthebills.com/free-medical-clinics-in-montana/free-and-low-cost-medical-clinics-in-billings-montana/ttps://helppayingthebills.com/medical/ opened\n",
      "https://helppayingthebills.com/free-medical-clinics-in-montana/free-and-low-cost-medical-clinics-in-billings-montana/ttps://helppayingthebills.com/healthcare-services/free-and-low-cost-HIV_AIDS_STD-Counseling/Billings/Montana opened\n",
      "https://helppayingthebills.com/free-medical-clinics-in-montana/free-and-low-cost-medical-clinics-in-billings-montana/el:406-373-3500 opened\n",
      "https://helppayingthebills.com/free-medical-clinics-in-montana/free-and-low-cost-medical-clinics-in-billings-montana/ttps://helppayingthebills.com/healthcare-services/free-and-low-cost-Medical-Specialists/Billings/Montana opened\n",
      "https://helppayingthebills.com/free-medical-clinics-in-montana/free-and-low-cost-medical-clinics-in-billings-montana/ttps://helppayingthebills.com/covid-19-testing-by-state/ opened\n",
      "https://helppayingthebills.com/free-medical-clinics-in-montana/free-and-low-cost-medical-clinics-in-billings-montana/el:406-869-5040 opened\n",
      "https://helppayingthebills.com/free-medical-clinics-in-montana/free-and-low-cost-medical-clinics-in-billings-montana/ttps://helppayingthebills.com/healthcare-services/free-and-low-cost-Physical-Therapy/Billings/Montana opened\n",
      "https://helppayingthebills.com/free-medical-clinics-in-montana/free-and-low-cost-medical-clinics-in-billings-montana/ttps://helppayingthebills.com/healthcare-services/free-and-low-cost-Blood-Pressure-Screening/Billings/Montana opened\n",
      "https://helppayingthebills.com/free-medical-clinics-in-montana/free-and-low-cost-medical-clinics-in-billings-montana/ttps://helppayingthebills.com/public-housing-agency-state-locations/ opened\n",
      "https://helppayingthebills.com/free-medical-clinics-in-montana/free-and-low-cost-medical-clinics-in-billings-montana/ttps://helppayingthebills.com/free-and-low-cost-dental-clinics-by-state/ opened\n",
      "https://helppayingthebills.com/free-medical-clinics-in-montana/free-and-low-cost-medical-clinics-in-billings-montana/ttps://helppayingthebills.com/medical/free-or-low-cost-medical-clinics/ opened\n",
      "https://helppayingthebills.com/free-medical-clinics-in-montana/free-and-low-cost-medical-clinics-in-billings-montana/ttps://helppayingthebills.com/contact-us/ opened\n",
      "https://www.mhthemes.com/ opened\n",
      "https://helppayingthebills.com/free-medical-clinics-in-montana/free-and-low-cost-medical-clinics-in-billings-montana/ttps://helppayingthebills.com/covid-19/ opened\n",
      "https://helppayingthebills.com/free-medical-clinics-in-montana/free-and-low-cost-medical-clinics-in-billings-montana/ttps://helppayingthebills.com/healthcare-services/free-and-low-cost-Men opened\n",
      "http://www.yapmt.org  is unable to be opened.\n",
      "https://helppayingthebills.com/free-medical-clinics-in-montana/free-and-low-cost-medical-clinics-in-billings-montana/ttps://helppayingthebills.com/healthcare-services/free-and-low-cost-Dental-Services/Billings/Montana opened\n",
      "https://helppayingthebills.com/free-medical-clinics-in-montana/free-and-low-cost-medical-clinics-in-billings-montana/ttps://helppayingthebills.com/healthcare-services/free-and-low-cost-Diabetes-Treatment-Management/Billings/Montana opened\n",
      "https://helppayingthebills.com/free-medical-clinics-in-montana/free-and-low-cost-medical-clinics-in-billings-montana/ttps://helppayingthebills.com/healthcare-services/free-and-low-cost-Social-sevices/Billings/Montana opened\n",
      "https://helppayingthebills.com/free-medical-clinics-in-montana/free-and-low-cost-medical-clinics-in-billings-montana/ttps://helppayingthebills.com/healthcare-services/free-and-low-cost-Sexually-Transmitted-Diseases-(STD)-Testing/Billings/Montana opened\n",
      "https://helppayingthebills.com/free-medical-clinics-in-montana/free-and-low-cost-medical-clinics-in-billings-montana/el:800-332-7156 opened\n",
      "http://www.plannedparenthood.org/health-center/montana/billings/59102/planned-parenthood-west-2441-90790  opened\n",
      "http://www.plannedparenthood.org/health-center/montana/billings/59102/planned-parenthood-west-2441-90790  is unable to be opened.\n",
      "https://helppayingthebills.com/free-medical-clinics-in-montana/free-and-low-cost-medical-clinics-in-billings-montana/ttps://helppayingthebills.com/veterans/veterans-administration/ opened\n",
      "https://helppayingthebills.com/free-medical-clinics-in-montana/free-and-low-cost-medical-clinics-in-billings-montana/ttps://helppayingthebills.com/housing-and-utilities/ opened\n",
      "https://helppayingthebills.com/free-medical-clinics-in-montana/free-and-low-cost-medical-clinics-in-billings-montana/el:406-245-2029 opened\n",
      "https://helppayingthebills.com/free-medical-clinics-in-montana/free-and-low-cost-medical-clinics-in-billings-montana/ttps://helppayingthebills.com/healthcare-services/free-and-low-cost-Podiatry-Services/Billings/Montana opened\n"
     ]
    },
    {
     "name": "stdout",
     "output_type": "stream",
     "text": [
      "https://helppayingthebills.com/free-medical-clinics-in-montana/free-and-low-cost-medical-clinics-in-billings-montana/ttps://helppayingthebills.com/free-low-cost-medical-clinics/ opened\n",
      "https://helppayingthebills.com/free-medical-clinics-in-montana/free-and-low-cost-medical-clinics-in-billings-montana/ttps://helppayingthebills.com/healthcare-services/free-and-low-cost-Medical-Services/Billings/Montana opened\n",
      "https://helppayingthebills.com/free-medical-clinics-in-montana/free-and-low-cost-medical-clinics-in-billings-montana/ttps://helppayingthebills.com/healthcare-services/free-and-low-cost-HIV_AIDS-Services/Billings/Montana opened\n",
      "https://helppayingthebills.com/free-medical-clinics-in-montana/free-and-low-cost-medical-clinics-in-billings-montana/ttps://helppayingthebills.com/healthcare-services/free-and-low-cost-Primary-Care/Billings/Montana opened\n"
     ]
    }
   ],
   "source": [
    "searchterm = input()\n",
    "output = email_link_search(searchterm)\n",
    "with open('output/searched.json', 'w') as f_out:\n",
    "    searched = {}\n",
    "    for k,v in output.items():\n",
    "        #Easiest way to filter a list, even if it gets out of order.\n",
    "        searched[k] = list(set(v))\n",
    "    json.dump(searched, f_out)\n",
    "\n",
    "save_csv(searchterm, output)"
   ]
  },
  {
   "cell_type": "code",
   "execution_count": null,
   "metadata": {},
   "outputs": [],
   "source": [
    "output"
   ]
  }
 ],
 "metadata": {
  "kernelspec": {
   "display_name": "Python [conda env:email-link-extract]",
   "language": "python",
   "name": "conda-env-email-link-extract-py"
  },
  "language_info": {
   "codemirror_mode": {
    "name": "ipython",
    "version": 3
   },
   "file_extension": ".py",
   "mimetype": "text/x-python",
   "name": "python",
   "nbconvert_exporter": "python",
   "pygments_lexer": "ipython3",
   "version": "3.10.4"
  }
 },
 "nbformat": 4,
 "nbformat_minor": 4
}
